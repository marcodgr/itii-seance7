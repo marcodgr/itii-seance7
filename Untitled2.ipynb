{
  "nbformat": 4,
  "nbformat_minor": 0,
  "metadata": {
    "colab": {
      "name": "Untitled2.ipynb",
      "provenance": [],
      "collapsed_sections": [],
      "authorship_tag": "ABX9TyNrrFZpjj41Uhben7FxLCfZ",
      "include_colab_link": true
    },
    "kernelspec": {
      "name": "python3",
      "display_name": "Python 3"
    }
  },
  "cells": [
    {
      "cell_type": "markdown",
      "metadata": {
        "id": "view-in-github",
        "colab_type": "text"
      },
      "source": [
        "<a href=\"https://colab.research.google.com/github/marcodgr/itii-seance7/blob/master/Untitled2.ipynb\" target=\"_parent\"><img src=\"https://colab.research.google.com/assets/colab-badge.svg\" alt=\"Open In Colab\"/></a>"
      ]
    },
    {
      "cell_type": "code",
      "metadata": {
        "colab": {
          "base_uri": "https://localhost:8080/"
        },
        "id": "BWsYjJKOF348",
        "outputId": "7ebd2586-e1de-4e52-95a6-e2b6c9a572a2"
      },
      "source": [
        " import numpy as np\n",
        "\n",
        "\n",
        "\n",
        "def additionMatrice(a,b):\n",
        "  return a+b\n",
        "\n",
        "\n",
        "a = np.array(([4,2],\n",
        "              [1,8]))\n",
        "\n",
        "b = np.array(([4,2],\n",
        "              [1,8]))\n",
        "\n",
        "result =additionMatrice(a,b)\n",
        "\n",
        "\n",
        "\n",
        "print(result)"
      ],
      "execution_count": 15,
      "outputs": [
        {
          "output_type": "stream",
          "text": [
            "[[ 8  4]\n",
            " [ 2 16]]\n"
          ],
          "name": "stdout"
        }
      ]
    },
    {
      "cell_type": "code",
      "metadata": {
        "colab": {
          "base_uri": "https://localhost:8080/"
        },
        "id": "hXoti1pXJ66q",
        "outputId": "fa1e9005-5695-4404-fa33-522694a3fbe1"
      },
      "source": [
        "import numpy as np\n",
        "\n",
        "\n",
        "def matrice_multiplication(X, Y):\n",
        "  C = []\n",
        "  for i in range(len(X)):\n",
        "    ligne=[]\n",
        "    for j in range(len(Y[0])):\n",
        "      temp=0\n",
        "      for k in range(len(X[0])):\n",
        "        temp = temp + X[i][k] * Y[k][j]\n",
        "      ligne.append(temp)\n",
        "    C.append(ligne)\n",
        "  return C\n",
        "\n",
        "\n",
        "a = [[0,-1],[1,3]]\n",
        "\n",
        "b = [[1,2],[1,0]]\n",
        "\n",
        "matrice_multiplication(a,b)\n",
        "\n"
      ],
      "execution_count": 48,
      "outputs": [
        {
          "output_type": "execute_result",
          "data": {
            "text/plain": [
              "[[-1, 0], [4, 2]]"
            ]
          },
          "metadata": {
            "tags": []
          },
          "execution_count": 48
        }
      ]
    },
    {
      "cell_type": "code",
      "metadata": {
        "id": "a93Hfg1kP6LZ"
      },
      "source": [
        "def eststochastique(P):\n",
        "    nl = len(P)  \n",
        "    nc = len(P[0])  \n",
        " \n",
        "    etat = True \n",
        "    for i in range(nl):\n",
        "        s = 0\n",
        "        for j in range(nc):\n",
        "            s += P[i][j]\n",
        "        if s > 1:\n",
        "            etat = False\n",
        "            break\n",
        "    return etat\n",
        " \n",
        " \n",
        "def estbistochastique(P):\n",
        "    nl = len(P) \n",
        "    nc = len(P[0]) \n",
        " \n",
        "    etat = True  \n",
        "    if(eststochastique(P)):\n",
        "        for j in range(nc):\n",
        "            s = 0\n",
        "            for i in range(nl):\n",
        "                s += P[i][j]\n",
        "            if s > 1:\n",
        "                etat = False\n",
        "                break\n",
        "    return etat\n",
        " \n",
        " \n",
        "def vecteurstable(G, h):\n",
        "    nl = len(G)  \n",
        "    nc = len(G[0])\n",
        "    etat = True\n",
        "    if(eststochastique(G)):\n",
        "        for j in range(nc):\n",
        "            s = 0\n",
        "            for i in range(nl):\n",
        "                s += h[i]*G[i][j]\n",
        "            if s != h[j]:\n",
        "                etat = False\n",
        "                break\n",
        "    else:\n",
        "        etat = False\n",
        "    return etat\n",
        "\n",
        "\n",
        "\n",
        "\n",
        "\n"
      ],
      "execution_count": null,
      "outputs": []
    },
    {
      "cell_type": "code",
      "metadata": {
        "id": "l4sfyHtZWTaZ"
      },
      "source": [
        "import numpy as np\n",
        " \n",
        "A = np.array([ [3, 1, 5], [9, 8, -1], [18, 12, 2] ])\n",
        " \n",
        "C = A.transpose()\n",
        " \n",
        "print(\"A : \", A)\n",
        "print(\"Transposée de A : \", C)"
      ],
      "execution_count": null,
      "outputs": []
    }
  ]
}